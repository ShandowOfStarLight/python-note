{
 "cells": [
  {
   "cell_type": "code",
   "execution_count": null,
   "metadata": {},
   "outputs": [],
   "source": [
    "from selenium import webdriver\n",
    "import re\n",
    "import time\n",
    "\n",
    "browser = webdriver.Firefox()\n",
    "url='http://192.168.136.128:61208/'\n",
    "browser.get(url)\n",
    "time.sleep(1)\n",
    "content=browser.page_source.split('\\n')\n",
    "partten = re.compile('<div class=\"table-cell ng-binding\">(.*?)</div>',re.S)\n",
    "for string in content:\n",
    "    result=re.findall(partten,string)\n",
    "    if result:\n",
    "        print (result)\n",
    "browser.close()\n"
   ]
  },
  {
   "cell_type": "code",
   "execution_count": 46,
   "metadata": {},
   "outputs": [
    {
     "name": "stdout",
     "output_type": "stream",
     "text": [
      "['144423474', ' 1214092341218021', ' 50000000', ' 0', \" '13892841888'\", ' 0', \" '0'\", ' 1637191', ' 912', ' 20161201101417', ' 20161201101417', ' 20161201101417', ' 20161201101417', ' 20371231235959', ' 0', ' 0', ' 1', \" ''\", ' 0', \" '0'\", \" '0'\", \" '2 '\", ' 211216120170036661', ' 1216120189477463\\n144423475', ' 1214092341218021', ' 50000000', ' 0', \" '13892841888'\", ' 0', \" '0'\", ' 33316', ' 912', ' 20141123093916', ' 20141123093916', ' 20141123093909', ' 20141123093909', ' 20371231235959', ' 0', ' 0', ' 0', \" ''\", ' 0', \" '0'\", \" '03'\", \" '2 '\", ' 218400005570749424', ' 8400005570749424\\n144423476', ' 1214092341218021', ' 50000000', ' 0', \" '13892841888'\", ' 0', \" '0'\", ' 78126', ' 912', ' 20140728112246', ' 20150206080350', ' 20150206080628', ' 20150206080628', ' 20371231235959', ' 0', ' 0', ' 0', \" ''\", ' 0', \" '0'\", \" '72'\", \" '2 '\", ' 218400005583844914', ' 8400005583844914']\n"
     ]
    }
   ],
   "source": [
    "import re\n",
    "formatbefore = \"\"\"144423474, 1214092341218021, 50000000, 0, '13892841888', 0, '0', 1637191, 912, 20161201101417, 20161201101417, 20161201101417, 20161201101417, 20371231235959, 0, 0, 1, '', 0, '0', '0', '2 ', 211216120170036661, 1216120189477463\n",
    "144423475, 1214092341218021, 50000000, 0, '13892841888', 0, '0', 33316, 912, 20141123093916, 20141123093916, 20141123093909, 20141123093909, 20371231235959, 0, 0, 0, '', 0, '0', '03', '2 ', 218400005570749424, 8400005570749424\n",
    "144423476, 1214092341218021, 50000000, 0, '13892841888', 0, '0', 78126, 912, 20140728112246, 20150206080350, 20150206080628, 20150206080628, 20371231235959, 0, 0, 0, '', 0, '0', '72', '2 ', 218400005583844914, 8400005583844914\"\"\"\n"
   ]
  },
  {
   "cell_type": "code",
   "execution_count": 10,
   "metadata": {},
   "outputs": [
    {
     "name": "stdout",
     "output_type": "stream",
     "text": [
      "(77, 43)\n",
      "(86, 49)\n",
      "(48, 28)\n",
      "(21, 70)\n",
      "(100, 90)\n",
      "(94, 84)\n",
      "(62, 98)\n",
      "(34, 14)\n",
      "(44, 79)\n",
      "(26, 64)\n"
     ]
    }
   ],
   "source": [
    "import random\n",
    "\n",
    "def get_point():\n",
    "    return (random.randint(1,100),random.randint(1,100))\n",
    "for i in range (10):\n",
    "    p1 = get_point()\n",
    "    print (p1)"
   ]
  },
  {
   "cell_type": "code",
   "execution_count": 2,
   "metadata": {},
   "outputs": [
    {
     "name": "stdout",
     "output_type": "stream",
     "text": [
      "c\n"
     ]
    }
   ],
   "source": [
    " a = ['a','b','c']\n",
    "print (a.pop())"
   ]
  },
  {
   "cell_type": "code",
   "execution_count": 3,
   "metadata": {},
   "outputs": [
    {
     "name": "stdout",
     "output_type": "stream",
     "text": [
      "b\n"
     ]
    }
   ],
   "source": [
    "print (a.pop())"
   ]
  },
  {
   "cell_type": "code",
   "execution_count": 4,
   "metadata": {},
   "outputs": [
    {
     "name": "stdout",
     "output_type": "stream",
     "text": [
      "a\n"
     ]
    }
   ],
   "source": [
    "print (a.pop())"
   ]
  },
  {
   "cell_type": "code",
   "execution_count": 5,
   "metadata": {},
   "outputs": [
    {
     "ename": "IndexError",
     "evalue": "pop from empty list",
     "output_type": "error",
     "traceback": [
      "\u001b[1;31m---------------------------------------------------------------------------\u001b[0m",
      "\u001b[1;31mIndexError\u001b[0m                                Traceback (most recent call last)",
      "\u001b[1;32m<ipython-input-5-51b649760e21>\u001b[0m in \u001b[0;36m<module>\u001b[1;34m()\u001b[0m\n\u001b[1;32m----> 1\u001b[1;33m \u001b[0mprint\u001b[0m \u001b[1;33m(\u001b[0m\u001b[0ma\u001b[0m\u001b[1;33m.\u001b[0m\u001b[0mpop\u001b[0m\u001b[1;33m(\u001b[0m\u001b[1;33m)\u001b[0m\u001b[1;33m)\u001b[0m\u001b[1;33m\u001b[0m\u001b[0m\n\u001b[0m",
      "\u001b[1;31mIndexError\u001b[0m: pop from empty list"
     ]
    }
   ],
   "source": [
    "print (a.pop())"
   ]
  },
  {
   "cell_type": "code",
   "execution_count": 6,
   "metadata": {},
   "outputs": [
    {
     "name": "stdout",
     "output_type": "stream",
     "text": [
      "0\n"
     ]
    }
   ],
   "source": [
    "print (len(a))"
   ]
  },
  {
   "cell_type": "code",
   "execution_count": 16,
   "metadata": {},
   "outputs": [
    {
     "name": "stdout",
     "output_type": "stream",
     "text": [
      "\n"
     ]
    }
   ],
   "source": [
    "import requests\n",
    "import jieba\n",
    "import re  \n",
    "\n",
    "def translate(str):  \n",
    "    line = str.strip() \n",
    "    p2 = re.compile(r'[^\\u4e00-\\u9fa5]')  \n",
    "    zh = \" \".join(p2.split(line)).strip()  \n",
    "    zh = \",\".join(zh.split())  \n",
    "    outStr = zh  \n",
    "    return outStr  \n",
    "\n",
    "web_url = 'https://www.baidu.com'\n",
    "\n",
    "\n",
    "\n",
    "# with open('dict.txt', \"r\") as data_f:\n",
    "# \tbad_words = data_f.read().split('\\n')\n",
    "\n",
    "\n",
    "\n",
    "\n",
    "html = requests.get(web_url).text\n",
    "web_content=translate(str(html))\n",
    "\n",
    "\n",
    "print (web_content)"
   ]
  },
  {
   "cell_type": "code",
   "execution_count": null,
   "metadata": {},
   "outputs": [],
   "source": []
  }
 ],
 "metadata": {
  "kernelspec": {
   "display_name": "Python 3",
   "language": "python",
   "name": "python3"
  },
  "language_info": {
   "codemirror_mode": {
    "name": "ipython",
    "version": 3
   },
   "file_extension": ".py",
   "mimetype": "text/x-python",
   "name": "python",
   "nbconvert_exporter": "python",
   "pygments_lexer": "ipython3",
   "version": "3.6.4"
  }
 },
 "nbformat": 4,
 "nbformat_minor": 2
}
