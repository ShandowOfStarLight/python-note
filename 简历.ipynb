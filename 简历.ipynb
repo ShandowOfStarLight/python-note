{
 "cells": [
  {
   "cell_type": "markdown",
   "metadata": {},
   "source": [
    "## 基本信息"
   ]
  },
  {
   "attachments": {},
   "cell_type": "markdown",
   "metadata": {},
   "source": [
    "### 姓名: 王凯龙"
   ]
  },
  {
   "cell_type": "markdown",
   "metadata": {},
   "source": [
    "### 电话: 15309122445"
   ]
  },
  {
   "cell_type": "markdown",
   "metadata": {},
   "source": [
    "### 邮箱:kailong.wang@qq.com"
   ]
  },
  {
   "cell_type": "markdown",
   "metadata": {},
   "source": [
    "### 毕业院校:西北工业大学明德学院    |  应届生"
   ]
  },
  {
   "cell_type": "markdown",
   "metadata": {},
   "source": [
    "----------------------------------------------------------------------------------------------------------------------------------------------"
   ]
  },
  {
   "cell_type": "markdown",
   "metadata": {},
   "source": [
    "### 技术栈:"
   ]
  },
  {
   "cell_type": "markdown",
   "metadata": {},
   "source": [
    "1：熟练使用linux/unix熟悉常用命令和简单的shell脚本"
   ]
  },
  {
   "cell_type": "markdown",
   "metadata": {},
   "source": [
    "2：熟练使用python语言并熟悉django框架"
   ]
  },
  {
   "cell_type": "markdown",
   "metadata": {},
   "source": [
    "3: 熟悉mongodb数据库,曾编写爬虫爬取过豆瓣70万条热评"
   ]
  },
  {
   "cell_type": "markdown",
   "metadata": {},
   "source": [
    "4：使用nltk,tensorflow做过自然语言处理，图片分类"
   ]
  },
  {
   "cell_type": "markdown",
   "metadata": {},
   "source": [
    "### 个人评价:"
   ]
  },
  {
   "cell_type": "markdown",
   "metadata": {},
   "source": [
    "有良好的编程习惯，愿意去尝试新鲜事物，善于对现象进行分析，乐于挑战自我。"
   ]
  },
  {
   "cell_type": "markdown",
   "metadata": {},
   "source": [
    "---------------------------------------------------------------------------------------------------------------------------------------------"
   ]
  },
  {
   "cell_type": "markdown",
   "metadata": {},
   "source": [
    "### 项目经验："
   ]
  },
  {
   "cell_type": "markdown",
   "metadata": {},
   "source": [
    "#### 豆瓣读书网爬虫"
   ]
  },
  {
   "cell_type": "markdown",
   "metadata": {},
   "source": [
    "简绍:将豆瓣读书网各标签下的书籍信息，书籍信息所在页热评的评论人，评论内容进行爬取。"
   ]
  },
  {
   "cell_type": "markdown",
   "metadata": {},
   "source": [
    "主要工作:\n",
    "    整个爬虫的架构，抓取免费代理的爬虫的编写和后端接口的实现.使用了flask来传递ip地址和端口，服务器端用了redis数据库保存抓取到的ip。\n",
    "    并在服务器端做第一次验证。用requests在请求时进行第二次代理验证，并在失败时自动更换代理。因免费代理可用数极少，校园网速不稳定，未\n",
    "    异步爬取，实现断点续爬。 将爬取评论内容用jieba进行分词，分词后结果导入nltk取出现频率较小的部分为分词优化字典，手动修改优化jieba\n",
    "    分词效果。重复了多次该部分。以书名为节点，评论人为边，评论内容情感分析为权值构造关系图。"
   ]
  }
 ],
 "metadata": {
  "kernelspec": {
   "display_name": "Python 3",
   "language": "python",
   "name": "python3"
  },
  "language_info": {
   "codemirror_mode": {
    "name": "ipython",
    "version": 3
   },
   "file_extension": ".py",
   "mimetype": "text/x-python",
   "name": "python",
   "nbconvert_exporter": "python",
   "pygments_lexer": "ipython3",
   "version": "3.6.4"
  }
 },
 "nbformat": 4,
 "nbformat_minor": 2
}
