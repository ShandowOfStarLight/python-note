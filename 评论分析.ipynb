{
 "cells": [
  {
   "cell_type": "code",
   "execution_count": 4,
   "metadata": {},
   "outputs": [
    {
     "name": "stdout",
     "output_type": "stream",
     "text": [
      "['真是', '心疼', '死许', '三观', '了', '，', '每次', '看见', '他', '卖', '血', '就', '怕', '他', '会', '不会', '死', '了', '，', '更', '怕', '三个', '儿子', '变成', '小', '白眼狼', '。', '但是', '就', '和', '他', '讲', '何小勇', '那段', '似的', '，', '好人', '有', '好', '报', '的', '。', '（', '最', '喜欢', '看', '他', '和', '一乐', '的', '故事', '了', '，', '最', '喜欢', '给', '何小勇', '喊魂', '那段', '，', '简直', '扬眉吐气', '）']\n"
     ]
    }
   ],
   "source": [
    "import jieba\n",
    "data = '真是心疼死许三观了，每次看见他卖血就怕他会不会死了，更怕三个儿子变成小白眼狼。但是就和他讲何小勇那段似的，好人有好报的。（最喜欢看他和一乐的故事了，最喜欢给何小勇喊魂那段，简直扬眉吐气）'\n",
    "segtmp = jieba.lcut(data, cut_all=False)\n",
    "print (segtmp)"
   ]
  },
  {
   "cell_type": "code",
   "execution_count": null,
   "metadata": {},
   "outputs": [],
   "source": [
    "db.table.update({}, {$set: {sentiment_score:\"\"}}, {multi: true})"
   ]
  }
 ],
 "metadata": {
  "kernelspec": {
   "display_name": "Python 3",
   "language": "python",
   "name": "python3"
  },
  "language_info": {
   "codemirror_mode": {
    "name": "ipython",
    "version": 3
   },
   "file_extension": ".py",
   "mimetype": "text/x-python",
   "name": "python",
   "nbconvert_exporter": "python",
   "pygments_lexer": "ipython3",
   "version": "3.6.4"
  }
 },
 "nbformat": 4,
 "nbformat_minor": 2
}
