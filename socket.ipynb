{
 "cells": [
  {
   "cell_type": "markdown",
   "metadata": {},
   "source": [
    "# python 网络编程"
   ]
  },
  {
   "cell_type": "code",
   "execution_count": null,
   "metadata": {},
   "outputs": [],
   "source": [
    "import socket\n",
    "target_host = 'www.google.com'\n",
    "target_port = 88\n",
    "#建立socket对象\n",
    "client = socket.socket(socket.AF_INET, socket.SOCK_STREAM)\n",
    "#连接客户端、\n",
    "client.connect((target_host,target_port))\n",
    "#发送一些数据\n",
    "client.send(\"GET / HTTP/1.1\\r\\nHost: google.com\\r\\n\\r\\n\")\n",
    "#接收数据\n",
    "response = client.recv(4096)\n",
    "\n",
    "print response\n"
   ]
  },
  {
   "cell_type": "code",
   "execution_count": null,
   "metadata": {},
   "outputs": [],
   "source": [
    "import socket\n",
    "target_host = '127.0.0.1'\n",
    "target_port = '80'\n",
    "client = socket.socket(socket.AF_INET,socket.SOCK_DGRAM)\n",
    "client.sendto(\"AABBBCX\",(target_host,target_port))\n",
    "data, addr = client.recvfrom(4096)\n",
    "\n",
    "print (data)"
   ]
  },
  {
   "cell_type": "markdown",
   "metadata": {},
   "source": [
    "tcp连接和udp连接的列子，socket.SOCK_STREAM为tcp，socket.SOCK_DGRAM为udp，upp不需要连接直接发送。"
   ]
  },
  {
   "cell_type": "markdown",
   "metadata": {},
   "source": [
    "# tcp服务器"
   ]
  },
  {
   "cell_type": "code",
   "execution_count": null,
   "metadata": {},
   "outputs": [],
   "source": [
    "import socket\n",
    "import threading\n",
    "\n",
    "bind_ip = \"0.0.0.0\"\n",
    "bind_port = 9999\n",
    "\n",
    "server = socket.socket(socket.AF_INET,socket.SOCK_STREAM)\n",
    "\n",
    "server.bind((bind_ip,bind_port))\n",
    "server.listen(5)\n",
    "\n",
    "def handle_client(client_socket):\n",
    "    request = client_socket.recv(1024)\n",
    "    print (\"Recevied: %s\" % request)\n",
    "    \n",
    "    client_socket.send(\"ACK!\")\n",
    "    client_socket.close()\n",
    "    \n",
    "while True:\n",
    "    client, addr = server.accept()\n",
    "    print (\"Accept connection from %s: %d\" % (addr[0],addr[1]))\n",
    "    \n",
    "    client_handler = threading.Thread(target=handle_client,args=(client,))\n",
    "    client_handler.start()"
   ]
  }
 ],
 "metadata": {
  "kernelspec": {
   "display_name": "Python 3",
   "language": "python",
   "name": "python3"
  },
  "language_info": {
   "codemirror_mode": {
    "name": "ipython",
    "version": 3
   },
   "file_extension": ".py",
   "mimetype": "text/x-python",
   "name": "python",
   "nbconvert_exporter": "python",
   "pygments_lexer": "ipython3",
   "version": "3.6.4"
  }
 },
 "nbformat": 4,
 "nbformat_minor": 2
}
